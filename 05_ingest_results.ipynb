{
 "cells": [
  {
   "cell_type": "markdown",
   "metadata": {},
   "source": [
    "## Import Libraries"
   ]
  },
  {
   "cell_type": "code",
   "execution_count": 1,
   "metadata": {},
   "outputs": [],
   "source": [
    "# Import Necessary Libraries\n",
    "import os\n",
    "import hashlib\n",
    "import urllib.request\n",
    "import json\n",
    "from datetime import timedelta, date\n",
    "\n",
    "from pyspark import SparkContext\n",
    "from pyspark.sql import SparkSession, SQLContext\n",
    "from pyspark.sql.functions import *\n",
    "from pyspark.sql.types import *\n",
    "\n",
    "from delta.tables import DeltaTable"
   ]
  },
  {
   "cell_type": "markdown",
   "metadata": {},
   "source": [
    "## Initiate Spark Session"
   ]
  },
  {
   "cell_type": "code",
   "execution_count": 2,
   "metadata": {},
   "outputs": [
    {
     "name": "stderr",
     "output_type": "stream",
     "text": [
      "WARNING: An illegal reflective access operation has occurred\n",
      "WARNING: Illegal reflective access by org.apache.spark.unsafe.Platform (file:/Users/oasis/sources/spark-3.2.0/jars/spark-unsafe_2.12-3.2.0.jar) to constructor java.nio.DirectByteBuffer(long,int)\n",
      "WARNING: Please consider reporting this to the maintainers of org.apache.spark.unsafe.Platform\n",
      "WARNING: Use --illegal-access=warn to enable warnings of further illegal reflective access operations\n",
      "WARNING: All illegal access operations will be denied in a future release\n"
     ]
    },
    {
     "name": "stdout",
     "output_type": "stream",
     "text": [
      ":: loading settings :: url = jar:file:/Users/oasis/sources/spark-3.2.0/jars/ivy-2.5.0.jar!/org/apache/ivy/core/settings/ivysettings.xml\n"
     ]
    },
    {
     "name": "stderr",
     "output_type": "stream",
     "text": [
      "Ivy Default Cache set to: /Users/oasis/.ivy2/cache\n",
      "The jars for the packages stored in: /Users/oasis/.ivy2/jars\n",
      "io.delta#delta-core_2.12 added as a dependency\n",
      ":: resolving dependencies :: org.apache.spark#spark-submit-parent-f645ac7f-67ca-4666-964e-0989f89e845c;1.0\n",
      "\tconfs: [default]\n",
      "\tfound io.delta#delta-core_2.12;2.0.0 in central\n",
      "\tfound io.delta#delta-storage;2.0.0 in central\n",
      "\tfound org.antlr#antlr4-runtime;4.8 in central\n",
      "\tfound org.codehaus.jackson#jackson-core-asl;1.9.13 in central\n",
      ":: resolution report :: resolve 319ms :: artifacts dl 9ms\n",
      "\t:: modules in use:\n",
      "\tio.delta#delta-core_2.12;2.0.0 from central in [default]\n",
      "\tio.delta#delta-storage;2.0.0 from central in [default]\n",
      "\torg.antlr#antlr4-runtime;4.8 from central in [default]\n",
      "\torg.codehaus.jackson#jackson-core-asl;1.9.13 from central in [default]\n",
      "\t---------------------------------------------------------------------\n",
      "\t|                  |            modules            ||   artifacts   |\n",
      "\t|       conf       | number| search|dwnlded|evicted|| number|dwnlded|\n",
      "\t---------------------------------------------------------------------\n",
      "\t|      default     |   4   |   0   |   0   |   0   ||   4   |   0   |\n",
      "\t---------------------------------------------------------------------\n",
      ":: retrieving :: org.apache.spark#spark-submit-parent-f645ac7f-67ca-4666-964e-0989f89e845c\n",
      "\tconfs: [default]\n",
      "\t0 artifacts copied, 4 already retrieved (0kB/6ms)\n",
      "23/10/10 12:23:04 WARN NativeCodeLoader: Unable to load native-hadoop library for your platform... using builtin-java classes where applicable\n",
      "23/10/10 12:23:05 WARN Utils: Service 'SparkUI' could not bind on port 4040. Attempting port 4041.\n",
      "23/10/10 12:23:05 WARN Utils: Service 'SparkUI' could not bind on port 4041. Attempting port 4042.\n",
      "23/10/10 12:23:05 WARN Utils: Service 'SparkUI' could not bind on port 4042. Attempting port 4043.\n",
      "23/10/10 12:23:05 WARN Utils: Service 'SparkUI' could not bind on port 4043. Attempting port 4044.\n"
     ]
    }
   ],
   "source": [
    "from pyspark.sql import SparkSession\n",
    "\n",
    "spark = SparkSession.builder \\\n",
    "    .appName(\"DeltaLake\") \\\n",
    "    .config(\"spark.hadoop.fs.s3a.impl\", \"org.apache.hadoop.fs.s3a.S3AFileSystem\") \\\n",
    "    .getOrCreate()\n"
   ]
  },
  {
   "cell_type": "markdown",
   "metadata": {},
   "source": [
    "## Data Lake Paths"
   ]
  },
  {
   "cell_type": "code",
   "execution_count": 3,
   "metadata": {},
   "outputs": [],
   "source": [
    "raw_layer = \"s3a://oasiscorp-raw/formula-oasis\""
   ]
  },
  {
   "cell_type": "code",
   "execution_count": null,
   "metadata": {},
   "outputs": [],
   "source": []
  },
  {
   "cell_type": "markdown",
   "metadata": {},
   "source": [
    "## Deifine Schema"
   ]
  },
  {
   "cell_type": "code",
   "execution_count": 4,
   "metadata": {},
   "outputs": [],
   "source": [
    "# Define the schema using StructType and StructField\n",
    "results_schema = StructType([\n",
    "\n",
    "    StructField(\"resultId\", IntegerType(), nullable=True),\n",
    "    StructField(\"raceId\", IntegerType(), nullable=True),\n",
    "    StructField(\"driverId\", IntegerType(), nullable=True),\n",
    "    StructField(\"constructorId\", IntegerType(), nullable=False),\n",
    "    StructField(\"number\", IntegerType(), nullable=True),\n",
    "    StructField(\"grid\", IntegerType(), nullable=True),\n",
    "    StructField(\"position\", IntegerType(), nullable=True),\n",
    "    StructField(\"positionText\", StringType(), nullable=True),\n",
    "    StructField(\"positionOrder\", IntegerType(), nullable=True),\n",
    "    StructField(\"points\", FloatType(), nullable=True),\n",
    "    StructField(\"laps\", IntegerType(), nullable=True),\n",
    "    StructField(\"time\", StringType(), nullable=True),\n",
    "    StructField(\"milliseconds\", IntegerType(), nullable=True),\n",
    "    StructField(\"fastestLap\", IntegerType(), nullable=True),\n",
    "    StructField(\"rank\", StringType(), nullable=True),\n",
    "    StructField(\"fastestLapTime\", StringType(), nullable=True),\n",
    "    StructField(\"fastestLapSpeed\", FloatType(), nullable=True),\n",
    "    StructField(\"statusId\", IntegerType(), nullable=True),\n",
    "    \n",
    "])"
   ]
  },
  {
   "cell_type": "code",
   "execution_count": null,
   "metadata": {},
   "outputs": [],
   "source": []
  },
  {
   "cell_type": "markdown",
   "metadata": {},
   "source": [
    "## Read the data and specify the schema in datareader API"
   ]
  },
  {
   "cell_type": "code",
   "execution_count": 5,
   "metadata": {},
   "outputs": [
    {
     "name": "stderr",
     "output_type": "stream",
     "text": [
      "23/10/10 12:26:08 WARN MetricsConfig: Cannot locate configuration: tried hadoop-metrics2-s3a-file-system.properties,hadoop-metrics2.properties\n"
     ]
    }
   ],
   "source": [
    "# Read the data from the raw layer\n",
    "results_df = spark.read \\\n",
    "                .schema(results_schema) \\\n",
    "                .json(f\"{raw_layer}/results.json\")"
   ]
  },
  {
   "cell_type": "code",
   "execution_count": 6,
   "metadata": {},
   "outputs": [
    {
     "name": "stderr",
     "output_type": "stream",
     "text": [
      "[Stage 0:=============================>                             (1 + 1) / 2]\r"
     ]
    },
    {
     "name": "stdout",
     "output_type": "stream",
     "text": [
      "+-------+------------------+-----------------+------------------+-----------------+------------------+------------------+-----------------+------------------+-----------------+------------------+------------------+------------------+------------------+------------------+------------------+--------------+------------------+-----------------+\n",
      "|summary|          resultId|           raceId|          driverId|    constructorId|            number|              grid|         position|      positionText|    positionOrder|            points|              laps|              time|      milliseconds|        fastestLap|              rank|fastestLapTime|   fastestLapSpeed|         statusId|\n",
      "+-------+------------------+-----------------+------------------+-----------------+------------------+------------------+-----------------+------------------+-----------------+------------------+------------------+------------------+------------------+------------------+------------------+--------------+------------------+-----------------+\n",
      "|  count|             24960|            24960|             24960|            24960|             24954|             24960|            14225|             24960|            24960|             24960|             24960|             24960|              6591|              6550|             24960|         24960|              6550|            24960|\n",
      "|   mean|12481.187459935898|512.3230368589743|246.44779647435897|46.97580128205128| 17.46673879939088|11.218629807692308|7.872126537785589|7.8727771139382865|12.95977564102564| 1.765687099371392|  45.7068108974359|29.382049959272347| 6253291.837202245|41.998473282442745|10.518402622559977|          null|202.38453968426654|17.83116987179487|\n",
      "| stddev|7206.4686582021895|286.5384816539665|253.69719895954387|57.79092066923928|14.575103807246268| 7.284552395273179| 4.77744570854006| 4.777458071175007|7.758849926588622|3.9759367641765078|30.091540322759332|19.027432781969143|1672622.9541840611|17.048877418010726| 6.182754213825047|          null| 21.38872559487588| 26.1760295807816|\n",
      "|    min|                 1|                1|                 1|                1|                 0|                 0|                1|                 1|                1|               0.0|                 0|          + 1:06.7|           1474899|                 2|                 0|      0:55.404|             89.54|                1|\n",
      "|    max|             24965|             1047|               851|              213|               208|                34|               33|                 W|               39|              50.0|               200|                \\N|          15090540|                85|                \\N|            \\N|            257.32|              139|\n",
      "+-------+------------------+-----------------+------------------+-----------------+------------------+------------------+-----------------+------------------+-----------------+------------------+------------------+------------------+------------------+------------------+------------------+--------------+------------------+-----------------+\n",
      "\n"
     ]
    },
    {
     "name": "stderr",
     "output_type": "stream",
     "text": [
      "                                                                                \r"
     ]
    }
   ],
   "source": [
    "results_df.describe().show()"
   ]
  },
  {
   "cell_type": "code",
   "execution_count": 7,
   "metadata": {},
   "outputs": [
    {
     "data": {
      "text/plain": [
       "['resultId',\n",
       " 'raceId',\n",
       " 'driverId',\n",
       " 'constructorId',\n",
       " 'number',\n",
       " 'grid',\n",
       " 'position',\n",
       " 'positionText',\n",
       " 'positionOrder',\n",
       " 'points',\n",
       " 'laps',\n",
       " 'time',\n",
       " 'milliseconds',\n",
       " 'fastestLap',\n",
       " 'rank',\n",
       " 'fastestLapTime',\n",
       " 'fastestLapSpeed',\n",
       " 'statusId']"
      ]
     },
     "execution_count": 7,
     "metadata": {},
     "output_type": "execute_result"
    }
   ],
   "source": [
    "results_df.columns"
   ]
  },
  {
   "cell_type": "code",
   "execution_count": 8,
   "metadata": {},
   "outputs": [],
   "source": [
    "## rename and add new dataframes\n",
    "\n",
    "results_sdf_curated = results_df \\\n",
    "        .withColumnRenamed(\"constructorId\", \"constructor_id\") \\\n",
    "        .withColumnRenamed(\"driverId\", \"driver_id\") \\\n",
    "        .withColumnRenamed(\"fastestLap\", \"fastest_lap\") \\\n",
    "        .withColumnRenamed(\"fastestLapSpeed\", \"fastest_lap_speed\") \\\n",
    "        .withColumnRenamed(\"fastestLapTime\", \"fastest_lap_time\") \\\n",
    "        .withColumnRenamed(\"positionOrder\", \"position_order\") \\\n",
    "        .withColumnRenamed(\"positionText\", \"position_text\") \\\n",
    "        .withColumnRenamed(\"raceId\", \"race_id\") \\\n",
    "        .withColumnRenamed(\"resultId\", \"result_id\") \\\n",
    "        .withColumnRenamed(\"time\", \"time\") \\\n",
    "        .withColumn(\"ingested_date\", current_timestamp())"
   ]
  },
  {
   "cell_type": "code",
   "execution_count": 9,
   "metadata": {},
   "outputs": [],
   "source": [
    "# drop statusId column\n",
    "results_sdf_curated = results_sdf_curated.drop(\"statusId\")"
   ]
  },
  {
   "cell_type": "code",
   "execution_count": 10,
   "metadata": {},
   "outputs": [
    {
     "name": "stderr",
     "output_type": "stream",
     "text": [
      "[Stage 3:>                                                          (0 + 1) / 1]\r"
     ]
    },
    {
     "name": "stdout",
     "output_type": "stream",
     "text": [
      "+---------+-------+---------+--------------+------+----+--------+-------------+--------------+------+----+-----------+------------+-----------+----+----------------+-----------------+--------------------+\n",
      "|result_id|race_id|driver_id|constructor_id|number|grid|position|position_text|position_order|points|laps|       time|milliseconds|fastest_lap|rank|fastest_lap_time|fastest_lap_speed|       ingested_date|\n",
      "+---------+-------+---------+--------------+------+----+--------+-------------+--------------+------+----+-----------+------------+-----------+----+----------------+-----------------+--------------------+\n",
      "|        1|     18|        1|             1|    22|   1|       1|            1|             1|  10.0|  58|1:34:50.616|     5690616|         39|   2|        1:27.452|            218.3|2023-10-10 12:32:...|\n",
      "|        2|     18|        2|             2|     3|   5|       2|            2|             2|   8.0|  58|     +5.478|     5696094|         41|   3|        1:27.739|          217.586|2023-10-10 12:32:...|\n",
      "|        3|     18|        3|             3|     7|   7|       3|            3|             3|   6.0|  58|     +8.163|     5698779|         41|   5|        1:28.090|          216.719|2023-10-10 12:32:...|\n",
      "|        4|     18|        4|             4|     5|  11|       4|            4|             4|   5.0|  58|    +17.181|     5707797|         58|   7|        1:28.603|          215.464|2023-10-10 12:32:...|\n",
      "|        5|     18|        5|             1|    23|   3|       5|            5|             5|   4.0|  58|    +18.014|     5708630|         43|   1|        1:27.418|          218.385|2023-10-10 12:32:...|\n",
      "|        6|     18|        6|             3|     8|  13|       6|            6|             6|   3.0|  57|         \\N|        null|         50|  14|        1:29.639|          212.974|2023-10-10 12:32:...|\n",
      "|        7|     18|        7|             5|    14|  17|       7|            7|             7|   2.0|  55|         \\N|        null|         22|  12|        1:29.534|          213.224|2023-10-10 12:32:...|\n",
      "|        8|     18|        8|             6|     1|  15|       8|            8|             8|   1.0|  53|         \\N|        null|         20|   4|        1:27.903|           217.18|2023-10-10 12:32:...|\n",
      "|        9|     18|        9|             2|     4|   2|    null|            R|             9|   0.0|  47|         \\N|        null|         15|   9|        1:28.753|            215.1|2023-10-10 12:32:...|\n",
      "|       10|     18|       10|             7|    12|  18|    null|            R|            10|   0.0|  43|         \\N|        null|         23|  13|        1:29.558|          213.166|2023-10-10 12:32:...|\n",
      "|       11|     18|       11|             8|    18|  19|    null|            R|            11|   0.0|  32|         \\N|        null|         24|  15|        1:30.892|          210.038|2023-10-10 12:32:...|\n",
      "|       12|     18|       12|             4|     6|  20|    null|            R|            12|   0.0|  30|         \\N|        null|         20|  16|        1:31.384|          208.907|2023-10-10 12:32:...|\n",
      "|       13|     18|       13|             6|     2|   4|    null|            R|            13|   0.0|  29|         \\N|        null|         23|   6|        1:28.175|           216.51|2023-10-10 12:32:...|\n",
      "|       14|     18|       14|             9|     9|   8|    null|            R|            14|   0.0|  25|         \\N|        null|         21|  11|        1:29.502|            213.3|2023-10-10 12:32:...|\n",
      "|       15|     18|       15|             7|    11|   6|    null|            R|            15|   0.0|  19|         \\N|        null|         18|  10|        1:29.310|          213.758|2023-10-10 12:32:...|\n",
      "|       16|     18|       16|            10|    20|  22|    null|            R|            16|   0.0|   8|         \\N|        null|          8|  17|        1:32.021|          207.461|2023-10-10 12:32:...|\n",
      "|       17|     18|       17|             9|    10|  14|    null|            R|            17|   0.0|   0|         \\N|        null|       null|  \\N|              \\N|             null|2023-10-10 12:32:...|\n",
      "|       18|     18|       18|            11|    16|  12|    null|            R|            18|   0.0|   0|         \\N|        null|       null|  \\N|              \\N|             null|2023-10-10 12:32:...|\n",
      "|       19|     18|       19|             8|    19|  21|    null|            R|            19|   0.0|   0|         \\N|        null|       null|  \\N|              \\N|             null|2023-10-10 12:32:...|\n",
      "|       20|     18|       20|             5|    15|   9|    null|            R|            20|   0.0|   0|         \\N|        null|       null|  \\N|              \\N|             null|2023-10-10 12:32:...|\n",
      "+---------+-------+---------+--------------+------+----+--------+-------------+--------------+------+----+-----------+------------+-----------+----+----------------+-----------------+--------------------+\n",
      "only showing top 20 rows\n",
      "\n"
     ]
    },
    {
     "name": "stderr",
     "output_type": "stream",
     "text": [
      "                                                                                \r"
     ]
    }
   ],
   "source": [
    "results_sdf_curated.show()"
   ]
  },
  {
   "cell_type": "markdown",
   "metadata": {},
   "source": [
    "## Write Data to S3 in parquet format"
   ]
  },
  {
   "cell_type": "code",
   "execution_count": 11,
   "metadata": {},
   "outputs": [],
   "source": [
    "processed_layer = \"s3a://oasiscorp-curated/formula-oasis\""
   ]
  },
  {
   "cell_type": "code",
   "execution_count": 12,
   "metadata": {},
   "outputs": [
    {
     "name": "stderr",
     "output_type": "stream",
     "text": [
      "                                                                                \r"
     ]
    }
   ],
   "source": [
    "# write in parquet format\n",
    "\n",
    "results_sdf_curated.write \\\n",
    "                .mode(\"overwrite\") \\\n",
    "                    .parquet(f\"{processed_layer}/results\")"
   ]
  },
  {
   "cell_type": "markdown",
   "metadata": {},
   "source": [
    "## Read Data Back From S3"
   ]
  },
  {
   "cell_type": "code",
   "execution_count": 13,
   "metadata": {},
   "outputs": [
    {
     "name": "stderr",
     "output_type": "stream",
     "text": [
      "[Stage 6:>                                                          (0 + 1) / 1]\r"
     ]
    },
    {
     "name": "stdout",
     "output_type": "stream",
     "text": [
      "+---------+-------+---------+--------------+------+----+--------+-------------+--------------+------+----+-----------+------------+-----------+----+----------------+-----------------+--------------------+\n",
      "|result_id|race_id|driver_id|constructor_id|number|grid|position|position_text|position_order|points|laps|       time|milliseconds|fastest_lap|rank|fastest_lap_time|fastest_lap_speed|       ingested_date|\n",
      "+---------+-------+---------+--------------+------+----+--------+-------------+--------------+------+----+-----------+------------+-----------+----+----------------+-----------------+--------------------+\n",
      "|        1|     18|        1|             1|    22|   1|       1|            1|             1|  10.0|  58|1:34:50.616|     5690616|         39|   2|        1:27.452|            218.3|2023-10-10 12:32:...|\n",
      "|        2|     18|        2|             2|     3|   5|       2|            2|             2|   8.0|  58|     +5.478|     5696094|         41|   3|        1:27.739|          217.586|2023-10-10 12:32:...|\n",
      "|        3|     18|        3|             3|     7|   7|       3|            3|             3|   6.0|  58|     +8.163|     5698779|         41|   5|        1:28.090|          216.719|2023-10-10 12:32:...|\n",
      "|        4|     18|        4|             4|     5|  11|       4|            4|             4|   5.0|  58|    +17.181|     5707797|         58|   7|        1:28.603|          215.464|2023-10-10 12:32:...|\n",
      "|        5|     18|        5|             1|    23|   3|       5|            5|             5|   4.0|  58|    +18.014|     5708630|         43|   1|        1:27.418|          218.385|2023-10-10 12:32:...|\n",
      "|        6|     18|        6|             3|     8|  13|       6|            6|             6|   3.0|  57|         \\N|        null|         50|  14|        1:29.639|          212.974|2023-10-10 12:32:...|\n",
      "|        7|     18|        7|             5|    14|  17|       7|            7|             7|   2.0|  55|         \\N|        null|         22|  12|        1:29.534|          213.224|2023-10-10 12:32:...|\n",
      "|        8|     18|        8|             6|     1|  15|       8|            8|             8|   1.0|  53|         \\N|        null|         20|   4|        1:27.903|           217.18|2023-10-10 12:32:...|\n",
      "|        9|     18|        9|             2|     4|   2|    null|            R|             9|   0.0|  47|         \\N|        null|         15|   9|        1:28.753|            215.1|2023-10-10 12:32:...|\n",
      "|       10|     18|       10|             7|    12|  18|    null|            R|            10|   0.0|  43|         \\N|        null|         23|  13|        1:29.558|          213.166|2023-10-10 12:32:...|\n",
      "+---------+-------+---------+--------------+------+----+--------+-------------+--------------+------+----+-----------+------------+-----------+----+----------------+-----------------+--------------------+\n",
      "only showing top 10 rows\n",
      "\n"
     ]
    },
    {
     "name": "stderr",
     "output_type": "stream",
     "text": [
      "                                                                                \r"
     ]
    }
   ],
   "source": [
    "# Read From Parquet\n",
    "\n",
    "races_df = spark.read.parquet(f\"{processed_layer}/results\")\n",
    "races_df.show(10)"
   ]
  },
  {
   "cell_type": "code",
   "execution_count": null,
   "metadata": {},
   "outputs": [],
   "source": []
  }
 ],
 "metadata": {
  "kernelspec": {
   "display_name": "oasis",
   "language": "python",
   "name": "python3"
  },
  "language_info": {
   "codemirror_mode": {
    "name": "ipython",
    "version": 3
   },
   "file_extension": ".py",
   "mimetype": "text/x-python",
   "name": "python",
   "nbconvert_exporter": "python",
   "pygments_lexer": "ipython3",
   "version": "3.9.16"
  }
 },
 "nbformat": 4,
 "nbformat_minor": 2
}
