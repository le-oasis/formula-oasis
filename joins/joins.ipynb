{
 "cells": [
  {
   "cell_type": "markdown",
   "metadata": {},
   "source": [
    "# IMPORT LIBRARIES"
   ]
  },
  {
   "cell_type": "code",
   "execution_count": 1,
   "metadata": {},
   "outputs": [],
   "source": [
    "# Import Spark libraries\n",
    "from pyspark.sql import SparkSession\n",
    "# For Schema \n",
    "from pyspark.sql.types import *\n",
    "# For Column\n",
    "from pyspark.sql.functions import col\n",
    "# For Timestamp\n",
    "from pyspark.sql.functions import current_timestamp\n",
    "# Creates a Column Object From a Literal Value \n",
    "from pyspark.sql.functions import lit\n",
    "# To Timestamp & Concatenate\n",
    "from pyspark.sql.functions import to_timestamp, concat \n",
    "# Distinct Counts\n",
    "from pyspark.sql.functions import countDistinct "
   ]
  },
  {
   "cell_type": "markdown",
   "metadata": {},
   "source": [
    "# INITIATE SPARK SESSION"
   ]
  },
  {
   "cell_type": "code",
   "execution_count": 2,
   "metadata": {},
   "outputs": [
    {
     "name": "stderr",
     "output_type": "stream",
     "text": [
      "WARNING: An illegal reflective access operation has occurred\n",
      "WARNING: Illegal reflective access by org.apache.spark.unsafe.Platform (file:/Users/oasis/sources/spark-3.2.0/jars/spark-unsafe_2.12-3.2.0.jar) to constructor java.nio.DirectByteBuffer(long,int)\n",
      "WARNING: Please consider reporting this to the maintainers of org.apache.spark.unsafe.Platform\n",
      "WARNING: Use --illegal-access=warn to enable warnings of further illegal reflective access operations\n",
      "WARNING: All illegal access operations will be denied in a future release\n"
     ]
    },
    {
     "name": "stdout",
     "output_type": "stream",
     "text": [
      ":: loading settings :: url = jar:file:/Users/oasis/sources/spark-3.2.0/jars/ivy-2.5.0.jar!/org/apache/ivy/core/settings/ivysettings.xml\n"
     ]
    },
    {
     "name": "stderr",
     "output_type": "stream",
     "text": [
      "Ivy Default Cache set to: /Users/oasis/.ivy2/cache\n",
      "The jars for the packages stored in: /Users/oasis/.ivy2/jars\n",
      "io.delta#delta-core_2.12 added as a dependency\n",
      ":: resolving dependencies :: org.apache.spark#spark-submit-parent-bb09311d-2676-400b-b169-f5322567b3d4;1.0\n",
      "\tconfs: [default]\n",
      "\tfound io.delta#delta-core_2.12;2.0.0 in central\n",
      "\tfound io.delta#delta-storage;2.0.0 in central\n",
      "\tfound org.antlr#antlr4-runtime;4.8 in central\n",
      "\tfound org.codehaus.jackson#jackson-core-asl;1.9.13 in central\n",
      ":: resolution report :: resolve 192ms :: artifacts dl 8ms\n",
      "\t:: modules in use:\n",
      "\tio.delta#delta-core_2.12;2.0.0 from central in [default]\n",
      "\tio.delta#delta-storage;2.0.0 from central in [default]\n",
      "\torg.antlr#antlr4-runtime;4.8 from central in [default]\n",
      "\torg.codehaus.jackson#jackson-core-asl;1.9.13 from central in [default]\n",
      "\t---------------------------------------------------------------------\n",
      "\t|                  |            modules            ||   artifacts   |\n",
      "\t|       conf       | number| search|dwnlded|evicted|| number|dwnlded|\n",
      "\t---------------------------------------------------------------------\n",
      "\t|      default     |   4   |   0   |   0   |   0   ||   4   |   0   |\n",
      "\t---------------------------------------------------------------------\n",
      ":: retrieving :: org.apache.spark#spark-submit-parent-bb09311d-2676-400b-b169-f5322567b3d4\n",
      "\tconfs: [default]\n",
      "\t0 artifacts copied, 4 already retrieved (0kB/5ms)\n",
      "23/10/10 15:11:10 WARN NativeCodeLoader: Unable to load native-hadoop library for your platform... using builtin-java classes where applicable\n",
      "23/10/10 15:11:11 WARN Utils: Service 'SparkUI' could not bind on port 4040. Attempting port 4041.\n"
     ]
    }
   ],
   "source": [
    "from pyspark.sql import SparkSession\n",
    "\n",
    "spark = SparkSession.builder \\\n",
    "    .appName(\"DeltaLake\") \\\n",
    "    .config(\"spark.hadoop.fs.s3a.impl\", \"org.apache.hadoop.fs.s3a.S3AFileSystem\") \\\n",
    "    .getOrCreate()"
   ]
  },
  {
   "cell_type": "markdown",
   "metadata": {},
   "source": [
    "# INITIALIZE VARIABLES"
   ]
  },
  {
   "cell_type": "code",
   "execution_count": 3,
   "metadata": {},
   "outputs": [],
   "source": [
    "processed_layer = \"s3a://oasiscorp-curated/formula-oasis\""
   ]
  },
  {
   "cell_type": "markdown",
   "metadata": {},
   "source": [
    "# READ THE DATA"
   ]
  },
  {
   "cell_type": "code",
   "execution_count": 4,
   "metadata": {},
   "outputs": [
    {
     "name": "stderr",
     "output_type": "stream",
     "text": [
      "23/10/10 15:11:24 WARN MetricsConfig: Cannot locate configuration: tried hadoop-metrics2-s3a-file-system.properties,hadoop-metrics2.properties\n",
      "                                                                                \r"
     ]
    }
   ],
   "source": [
    "# Read the \"races\" table\n",
    "races_df = spark.read.parquet(f\"{processed_layer}/races\") \\\n",
    "    .withColumnRenamed(\"name\", \"race_name\")\n",
    "\n",
    "\n",
    "# Read the \"circuits\" table\n",
    "circuits_df = spark.read.parquet(f\"{processed_layer}/circuits\") \\\n",
    "                            .withColumnRenamed(\"name\", \"circuit_name\")\n",
    "\n",
    "# Read the \"drivers\" table\n",
    "drivers_df = spark.read.parquet(f\"{processed_layer}/drivers\")\n",
    "\n",
    "# Read the \"constructors\" table\n",
    "constructors_df = spark.read.parquet(f\"{processed_layer}/constructors\")\n",
    "\n",
    "# Read the \"results\" table\n",
    "results_df = spark.read.parquet(f\"{processed_layer}/results\")"
   ]
  },
  {
   "cell_type": "code",
   "execution_count": 5,
   "metadata": {},
   "outputs": [
    {
     "name": "stderr",
     "output_type": "stream",
     "text": [
      "[Stage 5:>                                                          (0 + 1) / 1]\r"
     ]
    },
    {
     "name": "stdout",
     "output_type": "stream",
     "text": [
      "+-------+---------+----------+-----+--------------------+--------------------+-------------------+\n",
      "|race_id|race_year|circuit_id|round|           race_name|       ingested_date|     race_timestamp|\n",
      "+-------+---------+----------+-----+--------------------+--------------------+-------------------+\n",
      "|      1|     2009|         1|    1|Australian Grand ...|2023-10-10 15:08:...|2009-03-29 06:00:00|\n",
      "|      2|     2009|         2|    2|Malaysian Grand Prix|2023-10-10 15:08:...|2009-04-05 09:00:00|\n",
      "|      3|     2009|        17|    3|  Chinese Grand Prix|2023-10-10 15:08:...|2009-04-19 07:00:00|\n",
      "|      4|     2009|         3|    4|  Bahrain Grand Prix|2023-10-10 15:08:...|2009-04-26 12:00:00|\n",
      "|      5|     2009|         4|    5|  Spanish Grand Prix|2023-10-10 15:08:...|2009-05-10 12:00:00|\n",
      "+-------+---------+----------+-----+--------------------+--------------------+-------------------+\n",
      "only showing top 5 rows\n",
      "\n"
     ]
    },
    {
     "name": "stderr",
     "output_type": "stream",
     "text": [
      "                                                                                \r"
     ]
    }
   ],
   "source": [
    "races_df.show(5)"
   ]
  },
  {
   "cell_type": "markdown",
   "metadata": {},
   "source": [
    "# REGISTER DATA AS TEMPORARY TABLE"
   ]
  },
  {
   "cell_type": "code",
   "execution_count": 6,
   "metadata": {},
   "outputs": [],
   "source": [
    "# register table as temp view\n",
    "\n",
    "circuits_df.createOrReplaceTempView(\"circuit\")\n",
    "drivers_df.createOrReplaceTempView(\"driver\")\n",
    "constructors_df.createOrReplaceTempView(\"constructor\")\n",
    "results_df.createOrReplaceTempView(\"result\")\n",
    "races_df.createOrReplaceTempView(\"races\")"
   ]
  },
  {
   "cell_type": "markdown",
   "metadata": {},
   "source": [
    "# PERFORM SQL JOIN"
   ]
  },
  {
   "cell_type": "markdown",
   "metadata": {},
   "source": []
  }
 ],
 "metadata": {
  "kernelspec": {
   "display_name": "oasis",
   "language": "python",
   "name": "python3"
  },
  "language_info": {
   "codemirror_mode": {
    "name": "ipython",
    "version": 3
   },
   "file_extension": ".py",
   "mimetype": "text/x-python",
   "name": "python",
   "nbconvert_exporter": "python",
   "pygments_lexer": "ipython3",
   "version": "3.9.16"
  }
 },
 "nbformat": 4,
 "nbformat_minor": 2
}
