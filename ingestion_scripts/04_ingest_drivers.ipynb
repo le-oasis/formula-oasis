{
 "cells": [
  {
   "cell_type": "markdown",
   "metadata": {},
   "source": [
    "## Import Libraries"
   ]
  },
  {
   "cell_type": "code",
   "execution_count": 1,
   "metadata": {},
   "outputs": [],
   "source": [
    "# Import Necessary Libraries\n",
    "import os\n",
    "import hashlib\n",
    "import urllib.request\n",
    "import json\n",
    "from datetime import timedelta, date\n",
    "\n",
    "from pyspark import SparkContext\n",
    "from pyspark.sql import SparkSession, SQLContext\n",
    "from pyspark.sql.functions import *\n",
    "from pyspark.sql.types import *\n",
    "\n",
    "from delta.tables import DeltaTable"
   ]
  },
  {
   "cell_type": "markdown",
   "metadata": {},
   "source": [
    "## Initiate Spark Session"
   ]
  },
  {
   "cell_type": "code",
   "execution_count": 2,
   "metadata": {},
   "outputs": [
    {
     "name": "stderr",
     "output_type": "stream",
     "text": [
      "23/10/10 11:58:14 WARN Utils: Your hostname, OASIS-CORP.local resolves to a loopback address: 127.0.0.1; using 192.168.225.160 instead (on interface en0)\n",
      "23/10/10 11:58:14 WARN Utils: Set SPARK_LOCAL_IP if you need to bind to another address\n",
      "WARNING: An illegal reflective access operation has occurred\n",
      "WARNING: Illegal reflective access by org.apache.spark.unsafe.Platform (file:/Users/oasis/sources/spark-3.2.0/jars/spark-unsafe_2.12-3.2.0.jar) to constructor java.nio.DirectByteBuffer(long,int)\n",
      "WARNING: Please consider reporting this to the maintainers of org.apache.spark.unsafe.Platform\n",
      "WARNING: Use --illegal-access=warn to enable warnings of further illegal reflective access operations\n",
      "WARNING: All illegal access operations will be denied in a future release\n"
     ]
    },
    {
     "name": "stdout",
     "output_type": "stream",
     "text": [
      ":: loading settings :: url = jar:file:/Users/oasis/sources/spark-3.2.0/jars/ivy-2.5.0.jar!/org/apache/ivy/core/settings/ivysettings.xml\n"
     ]
    },
    {
     "name": "stderr",
     "output_type": "stream",
     "text": [
      "Ivy Default Cache set to: /Users/oasis/.ivy2/cache\n",
      "The jars for the packages stored in: /Users/oasis/.ivy2/jars\n",
      "io.delta#delta-core_2.12 added as a dependency\n",
      ":: resolving dependencies :: org.apache.spark#spark-submit-parent-5b1ec802-ad70-45d5-9e07-aba01db19981;1.0\n",
      "\tconfs: [default]\n",
      "\tfound io.delta#delta-core_2.12;2.0.0 in central\n",
      "\tfound io.delta#delta-storage;2.0.0 in central\n",
      "\tfound org.antlr#antlr4-runtime;4.8 in central\n",
      "\tfound org.codehaus.jackson#jackson-core-asl;1.9.13 in central\n",
      ":: resolution report :: resolve 239ms :: artifacts dl 10ms\n",
      "\t:: modules in use:\n",
      "\tio.delta#delta-core_2.12;2.0.0 from central in [default]\n",
      "\tio.delta#delta-storage;2.0.0 from central in [default]\n",
      "\torg.antlr#antlr4-runtime;4.8 from central in [default]\n",
      "\torg.codehaus.jackson#jackson-core-asl;1.9.13 from central in [default]\n",
      "\t---------------------------------------------------------------------\n",
      "\t|                  |            modules            ||   artifacts   |\n",
      "\t|       conf       | number| search|dwnlded|evicted|| number|dwnlded|\n",
      "\t---------------------------------------------------------------------\n",
      "\t|      default     |   4   |   0   |   0   |   0   ||   4   |   0   |\n",
      "\t---------------------------------------------------------------------\n",
      ":: retrieving :: org.apache.spark#spark-submit-parent-5b1ec802-ad70-45d5-9e07-aba01db19981\n",
      "\tconfs: [default]\n",
      "\t0 artifacts copied, 4 already retrieved (0kB/8ms)\n",
      "23/10/10 11:58:15 WARN NativeCodeLoader: Unable to load native-hadoop library for your platform... using builtin-java classes where applicable\n",
      "23/10/10 11:58:16 WARN Utils: Service 'SparkUI' could not bind on port 4040. Attempting port 4041.\n",
      "23/10/10 11:58:16 WARN Utils: Service 'SparkUI' could not bind on port 4041. Attempting port 4042.\n",
      "23/10/10 11:58:16 WARN Utils: Service 'SparkUI' could not bind on port 4042. Attempting port 4043.\n"
     ]
    }
   ],
   "source": [
    "from pyspark.sql import SparkSession\n",
    "\n",
    "spark = SparkSession.builder \\\n",
    "    .appName(\"DeltaLake\") \\\n",
    "    .config(\"spark.hadoop.fs.s3a.impl\", \"org.apache.hadoop.fs.s3a.S3AFileSystem\") \\\n",
    "    .getOrCreate()\n"
   ]
  },
  {
   "cell_type": "markdown",
   "metadata": {},
   "source": [
    "## Data Lake Paths"
   ]
  },
  {
   "cell_type": "code",
   "execution_count": 3,
   "metadata": {},
   "outputs": [],
   "source": [
    "raw_layer = \"s3a://oasiscorp-raw/formula-oasis\""
   ]
  },
  {
   "cell_type": "code",
   "execution_count": null,
   "metadata": {},
   "outputs": [],
   "source": []
  },
  {
   "cell_type": "markdown",
   "metadata": {},
   "source": [
    "## Deifine Schema"
   ]
  },
  {
   "cell_type": "code",
   "execution_count": 6,
   "metadata": {},
   "outputs": [],
   "source": [
    " # data in the name json \n",
    "name_schema = StructType([\n",
    "    StructField(\"forename\", StringType(), False),\n",
    "    StructField(\"surname\", StringType(), True)\n",
    "])\n",
    "\n",
    "# data in the drivers json\n",
    "drivers_schema = StructType(fields=[\n",
    "    StructField(\"driverId\", IntegerType(), True),\n",
    "    StructField(\"driverRef\", StringType(), True),\n",
    "    StructField(\"code\", StringType(), True),\n",
    "    StructField(\"name\", name_schema),\n",
    "    StructField(\"dob\", DateType(), True),\n",
    "    StructField(\"nationality\", StringType(), True),\n",
    "    StructField(\"url\", StringType(), True)\n",
    "])"
   ]
  },
  {
   "cell_type": "code",
   "execution_count": null,
   "metadata": {},
   "outputs": [],
   "source": []
  },
  {
   "cell_type": "markdown",
   "metadata": {},
   "source": [
    "## Read the data and specify the schema in datareader API"
   ]
  },
  {
   "cell_type": "code",
   "execution_count": 7,
   "metadata": {},
   "outputs": [
    {
     "name": "stderr",
     "output_type": "stream",
     "text": [
      "23/10/10 12:02:54 WARN MetricsConfig: Cannot locate configuration: tried hadoop-metrics2-s3a-file-system.properties,hadoop-metrics2.properties\n"
     ]
    }
   ],
   "source": [
    "# Read the data from the raw layer\n",
    "drivers_sdf = spark.read \\\n",
    "                .schema(drivers_schema) \\\n",
    "                .json(f\"{raw_layer}/drivers.json\")"
   ]
  },
  {
   "cell_type": "code",
   "execution_count": 9,
   "metadata": {},
   "outputs": [
    {
     "name": "stderr",
     "output_type": "stream",
     "text": [
      "[Stage 0:>                                                          (0 + 1) / 1]\r"
     ]
    },
    {
     "name": "stdout",
     "output_type": "stream",
     "text": [
      "+--------+----------+----+--------------------+----------+-----------+--------------------+\n",
      "|driverId| driverRef|code|                name|       dob|nationality|                 url|\n",
      "+--------+----------+----+--------------------+----------+-----------+--------------------+\n",
      "|       1|  hamilton| HAM|   {Lewis, Hamilton}|1985-01-07|    British|http://en.wikiped...|\n",
      "|       2|  heidfeld| HEI|    {Nick, Heidfeld}|1977-05-10|     German|http://en.wikiped...|\n",
      "|       3|   rosberg| ROS|     {Nico, Rosberg}|1985-06-27|     German|http://en.wikiped...|\n",
      "|       4|    alonso| ALO|  {Fernando, Alonso}|1981-07-29|    Spanish|http://en.wikiped...|\n",
      "|       5|kovalainen| KOV|{Heikki, Kovalainen}|1981-10-19|    Finnish|http://en.wikiped...|\n",
      "|       6|  nakajima| NAK|  {Kazuki, Nakajima}|1985-01-11|   Japanese|http://en.wikiped...|\n",
      "|       7|  bourdais| BOU|{Sébastien, Bourd...|1979-02-28|     French|http://en.wikiped...|\n",
      "|       8| raikkonen| RAI|   {Kimi, Räikkönen}|1979-10-17|    Finnish|http://en.wikiped...|\n",
      "|       9|    kubica| KUB|    {Robert, Kubica}|1984-12-07|     Polish|http://en.wikiped...|\n",
      "|      10|     glock| GLO|       {Timo, Glock}|1982-03-18|     German|http://en.wikiped...|\n",
      "+--------+----------+----+--------------------+----------+-----------+--------------------+\n",
      "only showing top 10 rows\n",
      "\n"
     ]
    },
    {
     "name": "stderr",
     "output_type": "stream",
     "text": [
      "                                                                                \r"
     ]
    }
   ],
   "source": [
    "drivers_sdf.show(10)"
   ]
  },
  {
   "cell_type": "code",
   "execution_count": 11,
   "metadata": {},
   "outputs": [
    {
     "name": "stderr",
     "output_type": "stream",
     "text": [
      "[Stage 1:>                                                          (0 + 1) / 1]\r"
     ]
    },
    {
     "name": "stdout",
     "output_type": "stream",
     "text": [
      "+---------+----------+----+------------------+----------+-----------+--------------------+--------------------+\n",
      "|driver_id|driver_ref|code|              name|       dob|nationality|                 url|       ingested_date|\n",
      "+---------+----------+----+------------------+----------+-----------+--------------------+--------------------+\n",
      "|        1|  hamilton| HAM|    Lewis Hamilton|1985-01-07|    British|http://en.wikiped...|2023-10-10 12:07:...|\n",
      "|        2|  heidfeld| HEI|     Nick Heidfeld|1977-05-10|     German|http://en.wikiped...|2023-10-10 12:07:...|\n",
      "|        3|   rosberg| ROS|      Nico Rosberg|1985-06-27|     German|http://en.wikiped...|2023-10-10 12:07:...|\n",
      "|        4|    alonso| ALO|   Fernando Alonso|1981-07-29|    Spanish|http://en.wikiped...|2023-10-10 12:07:...|\n",
      "|        5|kovalainen| KOV| Heikki Kovalainen|1981-10-19|    Finnish|http://en.wikiped...|2023-10-10 12:07:...|\n",
      "|        6|  nakajima| NAK|   Kazuki Nakajima|1985-01-11|   Japanese|http://en.wikiped...|2023-10-10 12:07:...|\n",
      "|        7|  bourdais| BOU|Sébastien Bourdais|1979-02-28|     French|http://en.wikiped...|2023-10-10 12:07:...|\n",
      "|        8| raikkonen| RAI|    Kimi Räikkönen|1979-10-17|    Finnish|http://en.wikiped...|2023-10-10 12:07:...|\n",
      "|        9|    kubica| KUB|     Robert Kubica|1984-12-07|     Polish|http://en.wikiped...|2023-10-10 12:07:...|\n",
      "|       10|     glock| GLO|        Timo Glock|1982-03-18|     German|http://en.wikiped...|2023-10-10 12:07:...|\n",
      "+---------+----------+----+------------------+----------+-----------+--------------------+--------------------+\n",
      "only showing top 10 rows\n",
      "\n"
     ]
    },
    {
     "name": "stderr",
     "output_type": "stream",
     "text": [
      "                                                                                \r"
     ]
    }
   ],
   "source": [
    "## rename and add new dataframes\n",
    "\n",
    "drivers_sdf = drivers_sdf.withColumnRenamed(\"driverId\", \"driver_id\") \\\n",
    "                            .withColumnRenamed(\"driverRef\", \"driver_ref\") \\\n",
    "                            .withColumn(\"ingested_date\", current_timestamp()) \\\n",
    "                            .withColumn(\"name\", concat(col(\"name.forename\"), lit(\" \"), col(\"name.surname\"))) \n",
    "drivers_sdf.show(10)"
   ]
  },
  {
   "cell_type": "code",
   "execution_count": null,
   "metadata": {},
   "outputs": [],
   "source": []
  },
  {
   "cell_type": "code",
   "execution_count": 12,
   "metadata": {},
   "outputs": [
    {
     "data": {
      "text/plain": [
       "['driver_id',\n",
       " 'driver_ref',\n",
       " 'code',\n",
       " 'name',\n",
       " 'dob',\n",
       " 'nationality',\n",
       " 'url',\n",
       " 'ingested_date']"
      ]
     },
     "execution_count": 12,
     "metadata": {},
     "output_type": "execute_result"
    }
   ],
   "source": [
    "drivers_sdf.columns"
   ]
  },
  {
   "cell_type": "code",
   "execution_count": 13,
   "metadata": {},
   "outputs": [],
   "source": [
    "# Rename columns\n",
    "\n",
    "\n",
    "# Drop url column\n",
    "drivers_sdf_final = drivers_sdf.drop(col(\"url\"))"
   ]
  },
  {
   "cell_type": "code",
   "execution_count": 14,
   "metadata": {},
   "outputs": [
    {
     "name": "stderr",
     "output_type": "stream",
     "text": [
      "[Stage 2:>                                                          (0 + 1) / 1]\r"
     ]
    },
    {
     "name": "stdout",
     "output_type": "stream",
     "text": [
      "+---------+----------+----+------------------+----------+-----------+--------------------+\n",
      "|driver_id|driver_ref|code|              name|       dob|nationality|       ingested_date|\n",
      "+---------+----------+----+------------------+----------+-----------+--------------------+\n",
      "|        1|  hamilton| HAM|    Lewis Hamilton|1985-01-07|    British|2023-10-10 12:08:...|\n",
      "|        2|  heidfeld| HEI|     Nick Heidfeld|1977-05-10|     German|2023-10-10 12:08:...|\n",
      "|        3|   rosberg| ROS|      Nico Rosberg|1985-06-27|     German|2023-10-10 12:08:...|\n",
      "|        4|    alonso| ALO|   Fernando Alonso|1981-07-29|    Spanish|2023-10-10 12:08:...|\n",
      "|        5|kovalainen| KOV| Heikki Kovalainen|1981-10-19|    Finnish|2023-10-10 12:08:...|\n",
      "|        6|  nakajima| NAK|   Kazuki Nakajima|1985-01-11|   Japanese|2023-10-10 12:08:...|\n",
      "|        7|  bourdais| BOU|Sébastien Bourdais|1979-02-28|     French|2023-10-10 12:08:...|\n",
      "|        8| raikkonen| RAI|    Kimi Räikkönen|1979-10-17|    Finnish|2023-10-10 12:08:...|\n",
      "|        9|    kubica| KUB|     Robert Kubica|1984-12-07|     Polish|2023-10-10 12:08:...|\n",
      "|       10|     glock| GLO|        Timo Glock|1982-03-18|     German|2023-10-10 12:08:...|\n",
      "+---------+----------+----+------------------+----------+-----------+--------------------+\n",
      "only showing top 10 rows\n",
      "\n"
     ]
    },
    {
     "name": "stderr",
     "output_type": "stream",
     "text": [
      "                                                                                \r"
     ]
    }
   ],
   "source": [
    "# ingested_date column \n",
    "\n",
    "\n",
    "drivers_sdf_final.show(10)"
   ]
  },
  {
   "cell_type": "markdown",
   "metadata": {},
   "source": [
    "## Write Data to S3 in parquet format"
   ]
  },
  {
   "cell_type": "code",
   "execution_count": 15,
   "metadata": {},
   "outputs": [],
   "source": [
    "processed_layer = \"s3a://oasiscorp-curated/formula-oasis\""
   ]
  },
  {
   "cell_type": "code",
   "execution_count": 16,
   "metadata": {},
   "outputs": [
    {
     "name": "stderr",
     "output_type": "stream",
     "text": [
      "                                                                                \r"
     ]
    }
   ],
   "source": [
    "# write in parquet format\n",
    "\n",
    "drivers_sdf_final.write \\\n",
    "                .mode(\"overwrite\") \\\n",
    "                    .parquet(f\"{processed_layer}/drivers\")"
   ]
  },
  {
   "cell_type": "markdown",
   "metadata": {},
   "source": [
    "## Read Data Back From S3"
   ]
  },
  {
   "cell_type": "code",
   "execution_count": 17,
   "metadata": {},
   "outputs": [
    {
     "name": "stderr",
     "output_type": "stream",
     "text": [
      "[Stage 5:>                                                          (0 + 1) / 1]\r"
     ]
    },
    {
     "name": "stdout",
     "output_type": "stream",
     "text": [
      "+---------+----------+----+------------------+----------+-----------+--------------------+\n",
      "|driver_id|driver_ref|code|              name|       dob|nationality|       ingested_date|\n",
      "+---------+----------+----+------------------+----------+-----------+--------------------+\n",
      "|        1|  hamilton| HAM|    Lewis Hamilton|1985-01-07|    British|2023-10-10 12:11:...|\n",
      "|        2|  heidfeld| HEI|     Nick Heidfeld|1977-05-10|     German|2023-10-10 12:11:...|\n",
      "|        3|   rosberg| ROS|      Nico Rosberg|1985-06-27|     German|2023-10-10 12:11:...|\n",
      "|        4|    alonso| ALO|   Fernando Alonso|1981-07-29|    Spanish|2023-10-10 12:11:...|\n",
      "|        5|kovalainen| KOV| Heikki Kovalainen|1981-10-19|    Finnish|2023-10-10 12:11:...|\n",
      "|        6|  nakajima| NAK|   Kazuki Nakajima|1985-01-11|   Japanese|2023-10-10 12:11:...|\n",
      "|        7|  bourdais| BOU|Sébastien Bourdais|1979-02-28|     French|2023-10-10 12:11:...|\n",
      "|        8| raikkonen| RAI|    Kimi Räikkönen|1979-10-17|    Finnish|2023-10-10 12:11:...|\n",
      "|        9|    kubica| KUB|     Robert Kubica|1984-12-07|     Polish|2023-10-10 12:11:...|\n",
      "|       10|     glock| GLO|        Timo Glock|1982-03-18|     German|2023-10-10 12:11:...|\n",
      "+---------+----------+----+------------------+----------+-----------+--------------------+\n",
      "only showing top 10 rows\n",
      "\n"
     ]
    },
    {
     "name": "stderr",
     "output_type": "stream",
     "text": [
      "                                                                                \r"
     ]
    }
   ],
   "source": [
    "# Read From Parquet\n",
    "\n",
    "races_df = spark.read.parquet(f\"{processed_layer}/drivers\")\n",
    "races_df.show(10)"
   ]
  },
  {
   "cell_type": "code",
   "execution_count": null,
   "metadata": {},
   "outputs": [],
   "source": []
  }
 ],
 "metadata": {
  "kernelspec": {
   "display_name": "oasis",
   "language": "python",
   "name": "python3"
  },
  "language_info": {
   "codemirror_mode": {
    "name": "ipython",
    "version": 3
   },
   "file_extension": ".py",
   "mimetype": "text/x-python",
   "name": "python",
   "nbconvert_exporter": "python",
   "pygments_lexer": "ipython3",
   "version": "3.9.16"
  }
 },
 "nbformat": 4,
 "nbformat_minor": 2
}
