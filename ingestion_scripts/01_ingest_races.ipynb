{
 "cells": [
  {
   "cell_type": "markdown",
   "metadata": {},
   "source": [
    "## Import Libraries"
   ]
  },
  {
   "cell_type": "code",
   "execution_count": 16,
   "metadata": {},
   "outputs": [],
   "source": [
    "# Import Necessary Libraries\n",
    "import os\n",
    "import hashlib\n",
    "import urllib.request\n",
    "import json\n",
    "from datetime import timedelta, date\n",
    "\n",
    "from pyspark import SparkContext\n",
    "from pyspark.sql import SparkSession, SQLContext\n",
    "from pyspark.sql.functions import *\n",
    "from pyspark.sql.types import *\n",
    "\n",
    "from delta.tables import DeltaTable"
   ]
  },
  {
   "cell_type": "markdown",
   "metadata": {},
   "source": [
    "## Initiate Spark Session"
   ]
  },
  {
   "cell_type": "code",
   "execution_count": 17,
   "metadata": {},
   "outputs": [],
   "source": [
    "from pyspark.sql import SparkSession\n",
    "\n",
    "spark = SparkSession.builder \\\n",
    "    .appName(\"DeltaLake\") \\\n",
    "    .config(\"spark.hadoop.fs.s3a.impl\", \"org.apache.hadoop.fs.s3a.S3AFileSystem\") \\\n",
    "    .getOrCreate()\n"
   ]
  },
  {
   "cell_type": "markdown",
   "metadata": {},
   "source": [
    "## Data Lake Paths"
   ]
  },
  {
   "cell_type": "code",
   "execution_count": 18,
   "metadata": {},
   "outputs": [],
   "source": [
    "raw_layer = \"s3a://oasiscorp-raw/formula-oasis\""
   ]
  },
  {
   "cell_type": "markdown",
   "metadata": {},
   "source": [
    "## Deifine Schema"
   ]
  },
  {
   "cell_type": "code",
   "execution_count": 19,
   "metadata": {},
   "outputs": [],
   "source": [
    "races_schema = StructType(fields=[StructField(\"raceID\", StringType(), False),\n",
    "                                  StructField(\"year\", StringType(), True),\n",
    "                                  StructField(\"round\", StringType(), True),\n",
    "                                    StructField(\"circuitId\", StringType(), True),\n",
    "                                    StructField(\"name\", StringType(), True),\n",
    "                                    StructField(\"date\", StringType(), True),\n",
    "                                    StructField(\"time\", StringType(), True),\n",
    "                                    StructField(\"url\", StringType(), True)])"
   ]
  },
  {
   "cell_type": "markdown",
   "metadata": {},
   "source": [
    "## Read the data and specify the schema in datareader API"
   ]
  },
  {
   "cell_type": "code",
   "execution_count": 20,
   "metadata": {},
   "outputs": [],
   "source": [
    "# Read the data from the raw layer\n",
    "races_sdf = spark.read \\\n",
    "                .option(\"header\", \"true\") \\\n",
    "                .schema(races_schema) \\\n",
    "                .csv(f\"{raw_layer}/races.csv\")"
   ]
  },
  {
   "cell_type": "code",
   "execution_count": 21,
   "metadata": {},
   "outputs": [
    {
     "name": "stdout",
     "output_type": "stream",
     "text": [
      "+------+----+-----+---------+--------------------+----------+--------+--------------------+\n",
      "|raceID|year|round|circuitId|                name|      date|    time|                 url|\n",
      "+------+----+-----+---------+--------------------+----------+--------+--------------------+\n",
      "|     1|2009|    1|        1|Australian Grand ...|2009-03-29|06:00:00|http://en.wikiped...|\n",
      "|     2|2009|    2|        2|Malaysian Grand Prix|2009-04-05|09:00:00|http://en.wikiped...|\n",
      "|     3|2009|    3|       17|  Chinese Grand Prix|2009-04-19|07:00:00|http://en.wikiped...|\n",
      "|     4|2009|    4|        3|  Bahrain Grand Prix|2009-04-26|12:00:00|http://en.wikiped...|\n",
      "|     5|2009|    5|        4|  Spanish Grand Prix|2009-05-10|12:00:00|http://en.wikiped...|\n",
      "|     6|2009|    6|        6|   Monaco Grand Prix|2009-05-24|12:00:00|http://en.wikiped...|\n",
      "|     7|2009|    7|        5|  Turkish Grand Prix|2009-06-07|12:00:00|http://en.wikiped...|\n",
      "|     8|2009|    8|        9|  British Grand Prix|2009-06-21|12:00:00|http://en.wikiped...|\n",
      "|     9|2009|    9|       20|   German Grand Prix|2009-07-12|12:00:00|http://en.wikiped...|\n",
      "|    10|2009|   10|       11|Hungarian Grand Prix|2009-07-26|12:00:00|http://en.wikiped...|\n",
      "+------+----+-----+---------+--------------------+----------+--------+--------------------+\n",
      "only showing top 10 rows\n",
      "\n"
     ]
    },
    {
     "name": "stderr",
     "output_type": "stream",
     "text": [
      "                                                                                \r"
     ]
    }
   ],
   "source": [
    "races_sdf.show(10)"
   ]
  },
  {
   "cell_type": "code",
   "execution_count": 22,
   "metadata": {},
   "outputs": [
    {
     "data": {
      "text/plain": [
       "['raceID', 'year', 'round', 'circuitId', 'name', 'date', 'time', 'url']"
      ]
     },
     "execution_count": 22,
     "metadata": {},
     "output_type": "execute_result"
    }
   ],
   "source": [
    "races_sdf.columns"
   ]
  },
  {
   "cell_type": "code",
   "execution_count": 23,
   "metadata": {},
   "outputs": [
    {
     "name": "stdout",
     "output_type": "stream",
     "text": [
      "+------+----+-----+---------+--------------------+----------+--------+--------------------+--------------------+-------------------+\n",
      "|raceID|year|round|circuitId|                name|      date|    time|                 url| ingestion_timestamp|     race_timestamp|\n",
      "+------+----+-----+---------+--------------------+----------+--------+--------------------+--------------------+-------------------+\n",
      "|     1|2009|    1|        1|Australian Grand ...|2009-03-29|06:00:00|http://en.wikiped...|2023-10-10 14:52:...|2009-03-29 06:00:00|\n",
      "|     2|2009|    2|        2|Malaysian Grand Prix|2009-04-05|09:00:00|http://en.wikiped...|2023-10-10 14:52:...|2009-04-05 09:00:00|\n",
      "|     3|2009|    3|       17|  Chinese Grand Prix|2009-04-19|07:00:00|http://en.wikiped...|2023-10-10 14:52:...|2009-04-19 07:00:00|\n",
      "|     4|2009|    4|        3|  Bahrain Grand Prix|2009-04-26|12:00:00|http://en.wikiped...|2023-10-10 14:52:...|2009-04-26 12:00:00|\n",
      "|     5|2009|    5|        4|  Spanish Grand Prix|2009-05-10|12:00:00|http://en.wikiped...|2023-10-10 14:52:...|2009-05-10 12:00:00|\n",
      "|     6|2009|    6|        6|   Monaco Grand Prix|2009-05-24|12:00:00|http://en.wikiped...|2023-10-10 14:52:...|2009-05-24 12:00:00|\n",
      "|     7|2009|    7|        5|  Turkish Grand Prix|2009-06-07|12:00:00|http://en.wikiped...|2023-10-10 14:52:...|2009-06-07 12:00:00|\n",
      "|     8|2009|    8|        9|  British Grand Prix|2009-06-21|12:00:00|http://en.wikiped...|2023-10-10 14:52:...|2009-06-21 12:00:00|\n",
      "|     9|2009|    9|       20|   German Grand Prix|2009-07-12|12:00:00|http://en.wikiped...|2023-10-10 14:52:...|2009-07-12 12:00:00|\n",
      "|    10|2009|   10|       11|Hungarian Grand Prix|2009-07-26|12:00:00|http://en.wikiped...|2023-10-10 14:52:...|2009-07-26 12:00:00|\n",
      "+------+----+-----+---------+--------------------+----------+--------+--------------------+--------------------+-------------------+\n",
      "only showing top 10 rows\n",
      "\n"
     ]
    },
    {
     "name": "stderr",
     "output_type": "stream",
     "text": [
      "                                                                                \r"
     ]
    }
   ],
   "source": [
    "# Assuming you have a DataFrame named 'races_sdf'\n",
    "races_sdf_curated = races_sdf.withColumn(\"ingestion_timestamp\", current_timestamp()) \\\n",
    "                                .withColumn(\"race_timestamp\", to_timestamp(concat(col(\"date\"), lit(\" \"), col(\"time\")), 'yyyy-MM-dd HH:mm:ss'))\n",
    "\n",
    "races_sdf_curated.show(10)"
   ]
  },
  {
   "cell_type": "code",
   "execution_count": 24,
   "metadata": {},
   "outputs": [
    {
     "name": "stderr",
     "output_type": "stream",
     "text": [
      "[Stage 12:>                                                         (0 + 1) / 1]\r"
     ]
    },
    {
     "name": "stdout",
     "output_type": "stream",
     "text": [
      "+-------+---------+----------+-----+--------------------+--------------------+-------------------+\n",
      "|race_id|race_year|circuit_id|round|                name|       ingested_date|     race_timestamp|\n",
      "+-------+---------+----------+-----+--------------------+--------------------+-------------------+\n",
      "|      1|     2009|         1|    1|Australian Grand ...|2023-10-10 14:52:...|2009-03-29 06:00:00|\n",
      "|      2|     2009|         2|    2|Malaysian Grand Prix|2023-10-10 14:52:...|2009-04-05 09:00:00|\n",
      "|      3|     2009|        17|    3|  Chinese Grand Prix|2023-10-10 14:52:...|2009-04-19 07:00:00|\n",
      "|      4|     2009|         3|    4|  Bahrain Grand Prix|2023-10-10 14:52:...|2009-04-26 12:00:00|\n",
      "|      5|     2009|         4|    5|  Spanish Grand Prix|2023-10-10 14:52:...|2009-05-10 12:00:00|\n",
      "|      6|     2009|         6|    6|   Monaco Grand Prix|2023-10-10 14:52:...|2009-05-24 12:00:00|\n",
      "|      7|     2009|         5|    7|  Turkish Grand Prix|2023-10-10 14:52:...|2009-06-07 12:00:00|\n",
      "|      8|     2009|         9|    8|  British Grand Prix|2023-10-10 14:52:...|2009-06-21 12:00:00|\n",
      "|      9|     2009|        20|    9|   German Grand Prix|2023-10-10 14:52:...|2009-07-12 12:00:00|\n",
      "|     10|     2009|        11|   10|Hungarian Grand Prix|2023-10-10 14:52:...|2009-07-26 12:00:00|\n",
      "+-------+---------+----------+-----+--------------------+--------------------+-------------------+\n",
      "only showing top 10 rows\n",
      "\n"
     ]
    },
    {
     "name": "stderr",
     "output_type": "stream",
     "text": [
      "                                                                                \r"
     ]
    }
   ],
   "source": [
    "from pyspark.sql.functions import col\n",
    "\n",
    "races_sdf_select = races_sdf_curated.select(\n",
    "    col(\"raceID\").alias(\"race_id\"),\n",
    "    col(\"year\").alias(\"race_year\"),\n",
    "    col(\"circuitId\").alias(\"circuit_id\"),\n",
    "    col(\"round\"),\n",
    "    col(\"name\"),\n",
    "    col(\"ingestion_timestamp\").alias(\"ingested_date\"),\n",
    "    col(\"race_timestamp\")\n",
    ")\n",
    "\n",
    "races_sdf_select.show(10)"
   ]
  },
  {
   "cell_type": "code",
   "execution_count": 25,
   "metadata": {},
   "outputs": [
    {
     "name": "stdout",
     "output_type": "stream",
     "text": [
      "root\n",
      " |-- race_id: string (nullable = true)\n",
      " |-- race_year: string (nullable = true)\n",
      " |-- circuit_id: string (nullable = true)\n",
      " |-- round: string (nullable = true)\n",
      " |-- name: string (nullable = true)\n",
      " |-- ingested_date: timestamp (nullable = false)\n",
      " |-- race_timestamp: timestamp (nullable = true)\n",
      "\n"
     ]
    }
   ],
   "source": [
    "# print Schema \n",
    "\n",
    "races_sdf_select.printSchema()"
   ]
  },
  {
   "cell_type": "code",
   "execution_count": null,
   "metadata": {},
   "outputs": [],
   "source": []
  },
  {
   "cell_type": "markdown",
   "metadata": {},
   "source": [
    "## Write Data to S3 in parquet format"
   ]
  },
  {
   "cell_type": "code",
   "execution_count": 26,
   "metadata": {},
   "outputs": [],
   "source": [
    "processed_layer = \"s3a://oasiscorp-curated/formula-oasis\""
   ]
  },
  {
   "cell_type": "code",
   "execution_count": 27,
   "metadata": {},
   "outputs": [
    {
     "name": "stderr",
     "output_type": "stream",
     "text": [
      "                                                                                \r"
     ]
    }
   ],
   "source": [
    "# Write into the processed layer\n",
    "races_sdf_select.write \\\n",
    "                .mode(\"overwrite\") \\\n",
    "                    .parquet(f\"{processed_layer}/races\")"
   ]
  },
  {
   "cell_type": "markdown",
   "metadata": {},
   "source": [
    "## Read Data Back From S3"
   ]
  },
  {
   "cell_type": "code",
   "execution_count": 28,
   "metadata": {},
   "outputs": [
    {
     "name": "stderr",
     "output_type": "stream",
     "text": [
      "[Stage 15:>                                                         (0 + 1) / 1]\r"
     ]
    },
    {
     "name": "stdout",
     "output_type": "stream",
     "text": [
      "+-------+---------+----------+-----+--------------------+--------------------+-------------------+\n",
      "|race_id|race_year|circuit_id|round|                name|       ingested_date|     race_timestamp|\n",
      "+-------+---------+----------+-----+--------------------+--------------------+-------------------+\n",
      "|      1|     2009|         1|    1|Australian Grand ...|2023-10-10 15:08:...|2009-03-29 06:00:00|\n",
      "|      2|     2009|         2|    2|Malaysian Grand Prix|2023-10-10 15:08:...|2009-04-05 09:00:00|\n",
      "|      3|     2009|        17|    3|  Chinese Grand Prix|2023-10-10 15:08:...|2009-04-19 07:00:00|\n",
      "|      4|     2009|         3|    4|  Bahrain Grand Prix|2023-10-10 15:08:...|2009-04-26 12:00:00|\n",
      "|      5|     2009|         4|    5|  Spanish Grand Prix|2023-10-10 15:08:...|2009-05-10 12:00:00|\n",
      "|      6|     2009|         6|    6|   Monaco Grand Prix|2023-10-10 15:08:...|2009-05-24 12:00:00|\n",
      "|      7|     2009|         5|    7|  Turkish Grand Prix|2023-10-10 15:08:...|2009-06-07 12:00:00|\n",
      "|      8|     2009|         9|    8|  British Grand Prix|2023-10-10 15:08:...|2009-06-21 12:00:00|\n",
      "|      9|     2009|        20|    9|   German Grand Prix|2023-10-10 15:08:...|2009-07-12 12:00:00|\n",
      "|     10|     2009|        11|   10|Hungarian Grand Prix|2023-10-10 15:08:...|2009-07-26 12:00:00|\n",
      "+-------+---------+----------+-----+--------------------+--------------------+-------------------+\n",
      "only showing top 10 rows\n",
      "\n"
     ]
    },
    {
     "name": "stderr",
     "output_type": "stream",
     "text": [
      "                                                                                \r"
     ]
    }
   ],
   "source": [
    "# Read From Parquet\n",
    "\n",
    "races_df = spark.read.parquet(f\"{processed_layer}/races\")\n",
    "races_df.show(10)"
   ]
  },
  {
   "cell_type": "code",
   "execution_count": 29,
   "metadata": {},
   "outputs": [
    {
     "name": "stderr",
     "output_type": "stream",
     "text": [
      "[Stage 16:>                                                         (0 + 1) / 1]\r"
     ]
    },
    {
     "name": "stdout",
     "output_type": "stream",
     "text": [
      "+---------+\n",
      "|race_year|\n",
      "+---------+\n",
      "|     1953|\n",
      "|     1957|\n",
      "|     1987|\n",
      "|     1956|\n",
      "|     2016|\n",
      "|     2012|\n",
      "|     2020|\n",
      "|     1958|\n",
      "|     1972|\n",
      "|     1988|\n",
      "|     2019|\n",
      "|     2017|\n",
      "|     1977|\n",
      "|     1971|\n",
      "|     2014|\n",
      "|     1984|\n",
      "|     1982|\n",
      "|     2013|\n",
      "|     2005|\n",
      "|     2000|\n",
      "+---------+\n",
      "only showing top 20 rows\n",
      "\n"
     ]
    },
    {
     "name": "stderr",
     "output_type": "stream",
     "text": [
      "                                                                                \r"
     ]
    }
   ],
   "source": [
    "# grab distinct race years \n",
    "races_df.select(\"race_year\").distinct().show()"
   ]
  },
  {
   "cell_type": "code",
   "execution_count": null,
   "metadata": {},
   "outputs": [],
   "source": []
  }
 ],
 "metadata": {
  "kernelspec": {
   "display_name": "oasis",
   "language": "python",
   "name": "python3"
  },
  "language_info": {
   "codemirror_mode": {
    "name": "ipython",
    "version": 3
   },
   "file_extension": ".py",
   "mimetype": "text/x-python",
   "name": "python",
   "nbconvert_exporter": "python",
   "pygments_lexer": "ipython3",
   "version": "3.9.16"
  }
 },
 "nbformat": 4,
 "nbformat_minor": 2
}
