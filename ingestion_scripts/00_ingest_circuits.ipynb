{
 "cells": [
  {
   "cell_type": "markdown",
   "metadata": {},
   "source": [
    "## Import Libraries"
   ]
  },
  {
   "cell_type": "code",
   "execution_count": 2,
   "metadata": {},
   "outputs": [],
   "source": [
    "# Import Necessary Libraries\n",
    "import os\n",
    "import hashlib\n",
    "import urllib.request\n",
    "import json\n",
    "from datetime import timedelta, date\n",
    "\n",
    "from pyspark import SparkContext\n",
    "from pyspark.sql import SparkSession, SQLContext\n",
    "from pyspark.sql.functions import *\n",
    "from pyspark.sql.types import *\n",
    "\n",
    "from delta.tables import DeltaTable"
   ]
  },
  {
   "cell_type": "markdown",
   "metadata": {},
   "source": [
    "## Initiate Spark Session"
   ]
  },
  {
   "cell_type": "code",
   "execution_count": 3,
   "metadata": {},
   "outputs": [
    {
     "name": "stderr",
     "output_type": "stream",
     "text": [
      "WARNING: An illegal reflective access operation has occurred\n",
      "WARNING: Illegal reflective access by org.apache.spark.unsafe.Platform (file:/Users/oasis/sources/spark-3.2.0/jars/spark-unsafe_2.12-3.2.0.jar) to constructor java.nio.DirectByteBuffer(long,int)\n",
      "WARNING: Please consider reporting this to the maintainers of org.apache.spark.unsafe.Platform\n",
      "WARNING: Use --illegal-access=warn to enable warnings of further illegal reflective access operations\n",
      "WARNING: All illegal access operations will be denied in a future release\n"
     ]
    },
    {
     "name": "stdout",
     "output_type": "stream",
     "text": [
      ":: loading settings :: url = jar:file:/Users/oasis/sources/spark-3.2.0/jars/ivy-2.5.0.jar!/org/apache/ivy/core/settings/ivysettings.xml\n"
     ]
    },
    {
     "name": "stderr",
     "output_type": "stream",
     "text": [
      "Ivy Default Cache set to: /Users/oasis/.ivy2/cache\n",
      "The jars for the packages stored in: /Users/oasis/.ivy2/jars\n",
      "io.delta#delta-core_2.12 added as a dependency\n",
      ":: resolving dependencies :: org.apache.spark#spark-submit-parent-35cbb979-1b78-4cf9-b9fb-8868c1aa28cf;1.0\n",
      "\tconfs: [default]\n",
      "\tfound io.delta#delta-core_2.12;2.0.0 in central\n",
      "\tfound io.delta#delta-storage;2.0.0 in central\n",
      "\tfound org.antlr#antlr4-runtime;4.8 in central\n",
      "\tfound org.codehaus.jackson#jackson-core-asl;1.9.13 in central\n",
      ":: resolution report :: resolve 292ms :: artifacts dl 9ms\n",
      "\t:: modules in use:\n",
      "\tio.delta#delta-core_2.12;2.0.0 from central in [default]\n",
      "\tio.delta#delta-storage;2.0.0 from central in [default]\n",
      "\torg.antlr#antlr4-runtime;4.8 from central in [default]\n",
      "\torg.codehaus.jackson#jackson-core-asl;1.9.13 from central in [default]\n",
      "\t---------------------------------------------------------------------\n",
      "\t|                  |            modules            ||   artifacts   |\n",
      "\t|       conf       | number| search|dwnlded|evicted|| number|dwnlded|\n",
      "\t---------------------------------------------------------------------\n",
      "\t|      default     |   4   |   0   |   0   |   0   ||   4   |   0   |\n",
      "\t---------------------------------------------------------------------\n",
      ":: retrieving :: org.apache.spark#spark-submit-parent-35cbb979-1b78-4cf9-b9fb-8868c1aa28cf\n",
      "\tconfs: [default]\n",
      "\t0 artifacts copied, 4 already retrieved (0kB/6ms)\n",
      "23/10/10 11:08:17 WARN NativeCodeLoader: Unable to load native-hadoop library for your platform... using builtin-java classes where applicable\n"
     ]
    }
   ],
   "source": [
    "from pyspark.sql import SparkSession\n",
    "\n",
    "spark = SparkSession.builder \\\n",
    "    .appName(\"DeltaLake\") \\\n",
    "    .config(\"spark.hadoop.fs.s3a.impl\", \"org.apache.hadoop.fs.s3a.S3AFileSystem\") \\\n",
    "    .getOrCreate()\n"
   ]
  },
  {
   "cell_type": "markdown",
   "metadata": {},
   "source": [
    "## Data Lake Paths"
   ]
  },
  {
   "cell_type": "code",
   "execution_count": 4,
   "metadata": {},
   "outputs": [],
   "source": [
    "raw_layer = \"s3a://oasiscorp-raw/formula-oasis\""
   ]
  },
  {
   "cell_type": "markdown",
   "metadata": {},
   "source": [
    "## Deifine Schema"
   ]
  },
  {
   "cell_type": "code",
   "execution_count": 5,
   "metadata": {},
   "outputs": [],
   "source": [
    "circ_schema = StructType(fields=[StructField(\"circuitId\", IntegerType(), False),\n",
    "                            StructField(\"circuitRef\", StringType(), True),\n",
    "                            StructField(\"name\", StringType(), True),\n",
    "                            StructField(\"location\", StringType(), True),\n",
    "                            StructField(\"country\", StringType(), True),\n",
    "                            StructField(\"lat\", FloatType(), True),\n",
    "                            StructField(\"lng\", FloatType(), True),\n",
    "                            StructField(\"alt\", IntegerType(), True),\n",
    "                            StructField(\"url\", StringType(), True)])"
   ]
  },
  {
   "cell_type": "markdown",
   "metadata": {},
   "source": [
    "## Read the data and specify the schema in datareader API"
   ]
  },
  {
   "cell_type": "code",
   "execution_count": 6,
   "metadata": {},
   "outputs": [
    {
     "name": "stderr",
     "output_type": "stream",
     "text": [
      "23/10/10 11:08:21 WARN MetricsConfig: Cannot locate configuration: tried hadoop-metrics2-s3a-file-system.properties,hadoop-metrics2.properties\n"
     ]
    }
   ],
   "source": [
    "# Read the data from the raw layer\n",
    "circuits_sdf = spark.read \\\n",
    "                .option(\"header\", \"true\") \\\n",
    "                .schema(circ_schema) \\\n",
    "                .csv(f\"{raw_layer}/circuits.csv\")"
   ]
  },
  {
   "cell_type": "code",
   "execution_count": 7,
   "metadata": {},
   "outputs": [
    {
     "name": "stderr",
     "output_type": "stream",
     "text": [
      "[Stage 0:>                                                          (0 + 1) / 1]\r"
     ]
    },
    {
     "name": "stdout",
     "output_type": "stream",
     "text": [
      "+---------+--------------+--------------------+------------+---------+--------+--------+---+--------------------+\n",
      "|circuitId|    circuitRef|                name|    location|  country|     lat|     lng|alt|                 url|\n",
      "+---------+--------------+--------------------+------------+---------+--------+--------+---+--------------------+\n",
      "|        1|   albert_park|Albert Park Grand...|   Melbourne|Australia|-37.8497| 144.968| 10|http://en.wikiped...|\n",
      "|        2|        sepang|Sepang Internatio...|Kuala Lumpur| Malaysia| 2.76083| 101.738| 18|http://en.wikiped...|\n",
      "|        3|       bahrain|Bahrain Internati...|      Sakhir|  Bahrain| 26.0325| 50.5106|  7|http://en.wikiped...|\n",
      "|        4|     catalunya|Circuit de Barcel...|    Montmeló|    Spain|   41.57| 2.26111|109|http://en.wikiped...|\n",
      "|        5|      istanbul|       Istanbul Park|    Istanbul|   Turkey| 40.9517|  29.405|130|http://en.wikiped...|\n",
      "|        6|        monaco|   Circuit de Monaco| Monte-Carlo|   Monaco| 43.7347| 7.42056|  7|http://en.wikiped...|\n",
      "|        7|    villeneuve|Circuit Gilles Vi...|    Montreal|   Canada|    45.5|-73.5228| 13|http://en.wikiped...|\n",
      "|        8|   magny_cours|Circuit de Nevers...| Magny Cours|   France| 46.8642| 3.16361|228|http://en.wikiped...|\n",
      "|        9|   silverstone| Silverstone Circuit| Silverstone|       UK| 52.0786|-1.01694|153|http://en.wikiped...|\n",
      "|       10|hockenheimring|      Hockenheimring|  Hockenheim|  Germany| 49.3278| 8.56583|103|http://en.wikiped...|\n",
      "+---------+--------------+--------------------+------------+---------+--------+--------+---+--------------------+\n",
      "only showing top 10 rows\n",
      "\n"
     ]
    },
    {
     "name": "stderr",
     "output_type": "stream",
     "text": [
      "                                                                                \r"
     ]
    }
   ],
   "source": [
    "circuits_sdf.show(10)"
   ]
  },
  {
   "cell_type": "code",
   "execution_count": 8,
   "metadata": {},
   "outputs": [
    {
     "data": {
      "text/plain": [
       "['circuitId',\n",
       " 'circuitRef',\n",
       " 'name',\n",
       " 'location',\n",
       " 'country',\n",
       " 'lat',\n",
       " 'lng',\n",
       " 'alt',\n",
       " 'url']"
      ]
     },
     "execution_count": 8,
     "metadata": {},
     "output_type": "execute_result"
    }
   ],
   "source": [
    "circuits_sdf.columns"
   ]
  },
  {
   "cell_type": "code",
   "execution_count": 9,
   "metadata": {},
   "outputs": [
    {
     "name": "stderr",
     "output_type": "stream",
     "text": [
      "[Stage 1:>                                                          (0 + 1) / 1]\r"
     ]
    },
    {
     "name": "stdout",
     "output_type": "stream",
     "text": [
      "+----------+--------------+--------------------+------------+--------+---------+--------+\n",
      "|circuit_id|   circuit_ref|        circuit_name|    location|latitude|longitude|altitude|\n",
      "+----------+--------------+--------------------+------------+--------+---------+--------+\n",
      "|         1|   albert_park|Albert Park Grand...|   Melbourne|-37.8497|  144.968|      10|\n",
      "|         2|        sepang|Sepang Internatio...|Kuala Lumpur| 2.76083|  101.738|      18|\n",
      "|         3|       bahrain|Bahrain Internati...|      Sakhir| 26.0325|  50.5106|       7|\n",
      "|         4|     catalunya|Circuit de Barcel...|    Montmeló|   41.57|  2.26111|     109|\n",
      "|         5|      istanbul|       Istanbul Park|    Istanbul| 40.9517|   29.405|     130|\n",
      "|         6|        monaco|   Circuit de Monaco| Monte-Carlo| 43.7347|  7.42056|       7|\n",
      "|         7|    villeneuve|Circuit Gilles Vi...|    Montreal|    45.5| -73.5228|      13|\n",
      "|         8|   magny_cours|Circuit de Nevers...| Magny Cours| 46.8642|  3.16361|     228|\n",
      "|         9|   silverstone| Silverstone Circuit| Silverstone| 52.0786| -1.01694|     153|\n",
      "|        10|hockenheimring|      Hockenheimring|  Hockenheim| 49.3278|  8.56583|     103|\n",
      "+----------+--------------+--------------------+------------+--------+---------+--------+\n",
      "only showing top 10 rows\n",
      "\n"
     ]
    },
    {
     "name": "stderr",
     "output_type": "stream",
     "text": [
      "                                                                                \r"
     ]
    }
   ],
   "source": [
    "## Select All columns besides the url \n",
    "\n",
    "from pyspark.sql.functions import col, lit, current_timestamp\n",
    "\n",
    "circuits_sdf = circuits_sdf.select(\n",
    "    col(\"circuitId\").alias(\"circuit_id\"),\n",
    "    col(\"circuitRef\").alias(\"circuit_ref\"), \n",
    "    col(\"name\").alias(\"circuit_name\"), \n",
    "    col(\"location\").alias(\"location\"), \n",
    "    col(\"lat\").alias(\"latitude\"), \n",
    "    col(\"lng\").alias(\"longitude\"), \n",
    "    col(\"alt\").alias(\"altitude\"))\n",
    "\n",
    "circuits_sdf.show(10)"
   ]
  },
  {
   "cell_type": "code",
   "execution_count": 10,
   "metadata": {},
   "outputs": [
    {
     "name": "stderr",
     "output_type": "stream",
     "text": [
      "[Stage 2:>                                                          (0 + 1) / 1]\r"
     ]
    },
    {
     "name": "stdout",
     "output_type": "stream",
     "text": [
      "+----------+--------------+--------------------+------------+--------+---------+--------+--------------------+\n",
      "|circuit_id|   circuit_ref|        circuit_name|    location|latitude|longitude|altitude|       ingested_date|\n",
      "+----------+--------------+--------------------+------------+--------+---------+--------+--------------------+\n",
      "|         1|   albert_park|Albert Park Grand...|   Melbourne|-37.8497|  144.968|      10|2023-10-10 11:08:...|\n",
      "|         2|        sepang|Sepang Internatio...|Kuala Lumpur| 2.76083|  101.738|      18|2023-10-10 11:08:...|\n",
      "|         3|       bahrain|Bahrain Internati...|      Sakhir| 26.0325|  50.5106|       7|2023-10-10 11:08:...|\n",
      "|         4|     catalunya|Circuit de Barcel...|    Montmeló|   41.57|  2.26111|     109|2023-10-10 11:08:...|\n",
      "|         5|      istanbul|       Istanbul Park|    Istanbul| 40.9517|   29.405|     130|2023-10-10 11:08:...|\n",
      "|         6|        monaco|   Circuit de Monaco| Monte-Carlo| 43.7347|  7.42056|       7|2023-10-10 11:08:...|\n",
      "|         7|    villeneuve|Circuit Gilles Vi...|    Montreal|    45.5| -73.5228|      13|2023-10-10 11:08:...|\n",
      "|         8|   magny_cours|Circuit de Nevers...| Magny Cours| 46.8642|  3.16361|     228|2023-10-10 11:08:...|\n",
      "|         9|   silverstone| Silverstone Circuit| Silverstone| 52.0786| -1.01694|     153|2023-10-10 11:08:...|\n",
      "|        10|hockenheimring|      Hockenheimring|  Hockenheim| 49.3278|  8.56583|     103|2023-10-10 11:08:...|\n",
      "+----------+--------------+--------------------+------------+--------+---------+--------+--------------------+\n",
      "only showing top 10 rows\n",
      "\n"
     ]
    },
    {
     "name": "stderr",
     "output_type": "stream",
     "text": [
      "                                                                                \r"
     ]
    }
   ],
   "source": [
    "# add an ingestion date column\n",
    "circuits_sdf = circuits_sdf.withColumn(\"ingested_date\", lit(current_timestamp()))\n",
    "circuits_sdf.show(10)"
   ]
  },
  {
   "cell_type": "code",
   "execution_count": 11,
   "metadata": {},
   "outputs": [
    {
     "name": "stdout",
     "output_type": "stream",
     "text": [
      "root\n",
      " |-- circuit_id: integer (nullable = true)\n",
      " |-- circuit_ref: string (nullable = true)\n",
      " |-- circuit_name: string (nullable = true)\n",
      " |-- location: string (nullable = true)\n",
      " |-- latitude: float (nullable = true)\n",
      " |-- longitude: float (nullable = true)\n",
      " |-- altitude: integer (nullable = true)\n",
      " |-- ingested_date: timestamp (nullable = false)\n",
      "\n"
     ]
    }
   ],
   "source": [
    "# print Schema \n",
    "\n",
    "circuits_sdf.printSchema()"
   ]
  },
  {
   "cell_type": "code",
   "execution_count": null,
   "metadata": {},
   "outputs": [],
   "source": []
  },
  {
   "cell_type": "markdown",
   "metadata": {},
   "source": [
    "## Write Data to S3 in parquet format"
   ]
  },
  {
   "cell_type": "code",
   "execution_count": 12,
   "metadata": {},
   "outputs": [],
   "source": [
    "processed_layer = \"s3a://oasiscorp-curated/formula-oasis\""
   ]
  },
  {
   "cell_type": "code",
   "execution_count": 13,
   "metadata": {},
   "outputs": [
    {
     "name": "stderr",
     "output_type": "stream",
     "text": [
      "                                                                                \r"
     ]
    }
   ],
   "source": [
    "# write in parquet format\n",
    "\n",
    "circuits_sdf.write \\\n",
    "                .mode(\"overwrite\") \\\n",
    "                    .parquet(f\"{processed_layer}/circuits\")"
   ]
  },
  {
   "cell_type": "markdown",
   "metadata": {},
   "source": [
    "## Read Data Back From S3"
   ]
  },
  {
   "cell_type": "code",
   "execution_count": 14,
   "metadata": {},
   "outputs": [
    {
     "name": "stderr",
     "output_type": "stream",
     "text": [
      "[Stage 5:>                                                          (0 + 1) / 1]\r"
     ]
    },
    {
     "name": "stdout",
     "output_type": "stream",
     "text": [
      "+----------+--------------+--------------------+------------+--------+---------+--------+--------------------+\n",
      "|circuit_id|   circuit_ref|        circuit_name|    location|latitude|longitude|altitude|       ingested_date|\n",
      "+----------+--------------+--------------------+------------+--------+---------+--------+--------------------+\n",
      "|         1|   albert_park|Albert Park Grand...|   Melbourne|-37.8497|  144.968|      10|2023-10-10 11:08:...|\n",
      "|         2|        sepang|Sepang Internatio...|Kuala Lumpur| 2.76083|  101.738|      18|2023-10-10 11:08:...|\n",
      "|         3|       bahrain|Bahrain Internati...|      Sakhir| 26.0325|  50.5106|       7|2023-10-10 11:08:...|\n",
      "|         4|     catalunya|Circuit de Barcel...|    Montmeló|   41.57|  2.26111|     109|2023-10-10 11:08:...|\n",
      "|         5|      istanbul|       Istanbul Park|    Istanbul| 40.9517|   29.405|     130|2023-10-10 11:08:...|\n",
      "|         6|        monaco|   Circuit de Monaco| Monte-Carlo| 43.7347|  7.42056|       7|2023-10-10 11:08:...|\n",
      "|         7|    villeneuve|Circuit Gilles Vi...|    Montreal|    45.5| -73.5228|      13|2023-10-10 11:08:...|\n",
      "|         8|   magny_cours|Circuit de Nevers...| Magny Cours| 46.8642|  3.16361|     228|2023-10-10 11:08:...|\n",
      "|         9|   silverstone| Silverstone Circuit| Silverstone| 52.0786| -1.01694|     153|2023-10-10 11:08:...|\n",
      "|        10|hockenheimring|      Hockenheimring|  Hockenheim| 49.3278|  8.56583|     103|2023-10-10 11:08:...|\n",
      "+----------+--------------+--------------------+------------+--------+---------+--------+--------------------+\n",
      "only showing top 10 rows\n",
      "\n"
     ]
    },
    {
     "name": "stderr",
     "output_type": "stream",
     "text": [
      "                                                                                \r"
     ]
    }
   ],
   "source": [
    "# Read From Parquet\n",
    "\n",
    "circuits_sdfs = spark.read.parquet(f\"{processed_layer}/circuits\")\n",
    "circuits_sdfs.show(10)"
   ]
  },
  {
   "cell_type": "code",
   "execution_count": 15,
   "metadata": {},
   "outputs": [
    {
     "name": "stderr",
     "output_type": "stream",
     "text": [
      "[Stage 6:>                                                          (0 + 1) / 1]\r"
     ]
    },
    {
     "name": "stdout",
     "output_type": "stream",
     "text": [
      "+----------+--------------+--------------------+------------+--------+---------+--------+--------------------+\n",
      "|circuit_id|   circuit_ref|        circuit_name|    location|latitude|longitude|altitude|       ingested_date|\n",
      "+----------+--------------+--------------------+------------+--------+---------+--------+--------------------+\n",
      "|         1|   albert_park|Albert Park Grand...|   Melbourne|-37.8497|  144.968|      10|2023-10-10 11:08:...|\n",
      "|         2|        sepang|Sepang Internatio...|Kuala Lumpur| 2.76083|  101.738|      18|2023-10-10 11:08:...|\n",
      "|         3|       bahrain|Bahrain Internati...|      Sakhir| 26.0325|  50.5106|       7|2023-10-10 11:08:...|\n",
      "|         4|     catalunya|Circuit de Barcel...|    Montmeló|   41.57|  2.26111|     109|2023-10-10 11:08:...|\n",
      "|         5|      istanbul|       Istanbul Park|    Istanbul| 40.9517|   29.405|     130|2023-10-10 11:08:...|\n",
      "|         6|        monaco|   Circuit de Monaco| Monte-Carlo| 43.7347|  7.42056|       7|2023-10-10 11:08:...|\n",
      "|         7|    villeneuve|Circuit Gilles Vi...|    Montreal|    45.5| -73.5228|      13|2023-10-10 11:08:...|\n",
      "|         8|   magny_cours|Circuit de Nevers...| Magny Cours| 46.8642|  3.16361|     228|2023-10-10 11:08:...|\n",
      "|         9|   silverstone| Silverstone Circuit| Silverstone| 52.0786| -1.01694|     153|2023-10-10 11:08:...|\n",
      "|        10|hockenheimring|      Hockenheimring|  Hockenheim| 49.3278|  8.56583|     103|2023-10-10 11:08:...|\n",
      "+----------+--------------+--------------------+------------+--------+---------+--------+--------------------+\n",
      "only showing top 10 rows\n",
      "\n"
     ]
    },
    {
     "name": "stderr",
     "output_type": "stream",
     "text": [
      "                                                                                \r"
     ]
    }
   ],
   "source": [
    "## Create a View For SQL Queries\n",
    "\n",
    "circuits_sdfs.createOrReplaceTempView(\"circuits\")\n",
    "\n",
    "spark.sql(\"select * from circuits\").show(10)"
   ]
  },
  {
   "cell_type": "code",
   "execution_count": null,
   "metadata": {},
   "outputs": [],
   "source": []
  }
 ],
 "metadata": {
  "kernelspec": {
   "display_name": "oasis",
   "language": "python",
   "name": "python3"
  },
  "language_info": {
   "codemirror_mode": {
    "name": "ipython",
    "version": 3
   },
   "file_extension": ".py",
   "mimetype": "text/x-python",
   "name": "python",
   "nbconvert_exporter": "python",
   "pygments_lexer": "ipython3",
   "version": "3.9.16"
  }
 },
 "nbformat": 4,
 "nbformat_minor": 2
}
